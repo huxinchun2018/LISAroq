{
 "cells": [
  {
   "cell_type": "code",
   "execution_count": null,
   "metadata": {},
   "outputs": [],
   "source": [
    "#!/usr/bin/env python\n",
    "\"\"\"\n",
    "A script to show how to create your own time domain source model.\n",
    "A simple damped Gaussian signal is defined in the time domain, injected into\n",
    "noise in two interferometers (LIGO Livingston and Hanford at design\n",
    "sensitivity), and then recovered.\n",
    "\"\"\"\n",
    "\n",
    "import numpy as np\n",
    "import bilby\n",
    "\n",
    "duration = 4\n",
    "sampling_frequency = 2048\n",
    "outdir = 'outdir'\n",
    "label = 'LIGO_signal'\n"
   ]
  },
  {
   "cell_type": "code",
   "execution_count": null,
   "metadata": {},
   "outputs": [],
   "source": [
    "injection_parameters = dict(\n",
    "    mass_1=36.0, mass_2=29.0, a_1=0.4, a_2=0.3, tilt_1=0.0, tilt_2=0.0,\n",
    "    phi_12=1.7, phi_jl=0.3, luminosity_distance=1000., theta_jn=0.4, psi=0.659,\n",
    "    phase=1.3, geocent_time=1126259642.413, ra=1.375, dec=-1.2108)\n",
    "\n",
    "waveform_arguments = dict(waveform_approximant='IMRPhenomPv2',\n",
    "                          reference_frequency=20.0 ,\n",
    "                          minimum_frequency=20.0)\n",
    "\n",
    "# call the waveform_generator to create our waveform model.\n",
    "waveform = bilby.gw.waveform_generator.WaveformGenerator(\n",
    "    duration=duration, sampling_frequency=sampling_frequency,\n",
    "    frequency_domain_source_model=bilby.gw.source.lal_binary_black_hole,\n",
    "    waveform_arguments=waveform_arguments,\n",
    "    start_time=injection_parameters['geocent_time'] - 3)"
   ]
  },
  {
   "cell_type": "code",
   "execution_count": null,
   "metadata": {},
   "outputs": [],
   "source": [
    "\n",
    "# inject the signal into three interferometers\n",
    "ifos = bilby.gw.detector.InterferometerList(['H1', 'L1'])\n",
    "# for interferometer in ifos:\n",
    "#     interferometer.power_spectral_density = \\\n",
    "#         bilby.gw.detector.PowerSpectralDensity(\n",
    "#             psd_file=\"example_aligo.txt\")\n",
    "# ifos.set_strain_data_from_power_spectral_densities(\n",
    "#     sampling_frequency=sampling_frequency, duration=duration,\n",
    "#     start_time=injection_parameters['geocent_time'] - 3)\n",
    "\n",
    "ifos.set_strain_data_from_zero_noise(\n",
    "    sampling_frequency=sampling_frequency, duration=duration,\n",
    "    start_time=injection_parameters['geocent_time'] - 3)\n",
    "ifos.inject_signal(waveform_generator=waveform,\n",
    "                   parameters=injection_parameters)\n"
   ]
  },
  {
   "cell_type": "code",
   "execution_count": null,
   "metadata": {},
   "outputs": [],
   "source": [
    "#  create the priors\n",
    "priors = bilby.gw.prior.BBHPriorDict()\n",
    "\n",
    "for key in ['a_1', 'a_2', 'tilt_1', 'tilt_2', 'theta_jn', 'phase', 'psi', 'ra',\n",
    "            'dec', 'phi_12', 'phi_jl', 'luminosity_distance']:\n",
    "    priors[key] = injection_parameters[key]\n",
    "    \n",
    "priors['mass_1'] = bilby.core.prior.Uniform(10, 50, name='mass_1')\n",
    "priors['mass_2'] = bilby.core.prior.Uniform(10, 50, name='mass_2')\n",
    "priors['geocent_time'] = bilby.core.prior.Uniform(\n",
    "    injection_parameters['geocent_time'] - 0.1,\n",
    "    injection_parameters['geocent_time'] + 0.1, latex_label='$t_c$', unit='s')\n",
    "\n",
    "# define likelihood\n",
    "likelihood = bilby.gw.likelihood.GravitationalWaveTransient(ifos, waveform)\n",
    "\n",
    "# launch sampler\n",
    "result = bilby.run_sampler(\n",
    "    likelihood=likelihood, priors=priors, sampler='dynesty', npoints=1024,\n",
    "    injection_parameters=injection_parameters, outdir=outdir, label=label)\n",
    "\n",
    "result.plot_corner()\n"
   ]
  },
  {
   "cell_type": "code",
   "execution_count": null,
   "metadata": {},
   "outputs": [],
   "source": []
  },
  {
   "cell_type": "code",
   "execution_count": null,
   "metadata": {},
   "outputs": [],
   "source": []
  }
 ],
 "metadata": {
  "kernelspec": {
   "display_name": "ligo-py36",
   "language": "python",
   "name": "ligo-py36"
  },
  "language_info": {
   "codemirror_mode": {
    "name": "ipython",
    "version": 3
   },
   "file_extension": ".py",
   "mimetype": "text/x-python",
   "name": "python",
   "nbconvert_exporter": "python",
   "pygments_lexer": "ipython3",
   "version": "3.6.7"
  }
 },
 "nbformat": 4,
 "nbformat_minor": 4
}
