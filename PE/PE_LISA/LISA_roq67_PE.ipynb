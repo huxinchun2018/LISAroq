{
 "cells": [
  {
   "cell_type": "markdown",
   "metadata": {},
   "source": [
    "# PE for LISA BHB (10^6, 10^7)"
   ]
  },
  {
   "cell_type": "code",
   "execution_count": 48,
   "metadata": {},
   "outputs": [],
   "source": [
    "from __future__ import division, print_function\n",
    "\n",
    "import numpy as np\n",
    "\n",
    "import bilby\n",
    "\n",
    "outdir = 'outdir'\n",
    "label = 'roqLISA'"
   ]
  },
  {
   "cell_type": "code",
   "execution_count": 49,
   "metadata": {},
   "outputs": [],
   "source": [
    "# The ROQ bases can be given an overall scaling.\n",
    "# Note how this is applied to durations, frequencies and masses.\n",
    "scale_factor = 1.0\n",
    "\n",
    "# Load in the pieces for the linear part of the ROQ. Note you will need to\n",
    "# adjust the filenames here to the correct paths on your machine\n",
    "basis_matrix_linear = np.load(\"B_linear.npy\").T\n",
    "freq_nodes_linear = np.load(\"fnodes_linear.npy\") * scale_factor\n",
    "\n",
    "# Load in the pieces for the quadratic part of the ROQ\n",
    "basis_matrix_quadratic = np.load(\"B_quadratic.npy\").T\n",
    "freq_nodes_quadratic = np.load(\"fnodes_quadratic.npy\") * scale_factor\n",
    "\n",
    "# Load the parameters describing the valid parameters for the basis.\n",
    "# params = np.genfromtxt(\"/Users/hxc/Downloads/ROQ_data-master/IMRPhenomPv2/4s/params.dat\", names=True)\n",
    "params = np.genfromtxt(\"params.dat\", names=True)\n",
    "params['flow'] *= scale_factor\n",
    "params['fhigh'] *= scale_factor\n",
    "params['seglen'] /= scale_factor\n",
    "params['chirpmassmin'] /= scale_factor\n",
    "params['chirpmassmax'] /= scale_factor\n",
    "params['compmin'] /= scale_factor"
   ]
  },
  {
   "cell_type": "code",
   "execution_count": 61,
   "metadata": {},
   "outputs": [
    {
     "name": "stderr",
     "output_type": "stream",
     "text": [
      "12:26 bilby INFO    : Injected signal in H1:\n",
      "12:26 bilby INFO    :   optimal SNR = 0.00\n",
      "12:26 bilby INFO    :   matched filter SNR = nan+nanj\n",
      "12:26 bilby INFO    :   mass_1 = 5000000.0\n",
      "12:26 bilby INFO    :   mass_2 = 6000000.0\n",
      "12:26 bilby INFO    :   a_1 = 0.4\n",
      "12:26 bilby INFO    :   a_2 = 0.3\n",
      "12:26 bilby INFO    :   tilt_1 = 0.0\n",
      "12:26 bilby INFO    :   tilt_2 = 0.0\n",
      "12:26 bilby INFO    :   phi_12 = 1.7\n",
      "12:26 bilby INFO    :   phi_jl = 0.3\n",
      "12:26 bilby INFO    :   luminosity_distance = 1000.0\n",
      "12:26 bilby INFO    :   theta_jn = 0.4\n",
      "12:26 bilby INFO    :   psi = 0.659\n",
      "12:26 bilby INFO    :   phase = 1.3\n",
      "12:26 bilby INFO    :   geocent_time = 1126259642.413\n",
      "12:26 bilby INFO    :   ra = 1.375\n",
      "12:26 bilby INFO    :   dec = -1.2108\n",
      "12:26 bilby INFO    : Injected signal in V1:\n",
      "12:26 bilby INFO    :   optimal SNR = 0.00\n",
      "12:26 bilby INFO    :   matched filter SNR = nan+nanj\n",
      "12:26 bilby INFO    :   mass_1 = 5000000.0\n",
      "12:26 bilby INFO    :   mass_2 = 6000000.0\n",
      "12:26 bilby INFO    :   a_1 = 0.4\n",
      "12:26 bilby INFO    :   a_2 = 0.3\n",
      "12:26 bilby INFO    :   tilt_1 = 0.0\n",
      "12:26 bilby INFO    :   tilt_2 = 0.0\n",
      "12:26 bilby INFO    :   phi_12 = 1.7\n",
      "12:26 bilby INFO    :   phi_jl = 0.3\n",
      "12:26 bilby INFO    :   luminosity_distance = 1000.0\n",
      "12:26 bilby INFO    :   theta_jn = 0.4\n",
      "12:26 bilby INFO    :   psi = 0.659\n",
      "12:26 bilby INFO    :   phase = 1.3\n",
      "12:26 bilby INFO    :   geocent_time = 1126259642.413\n",
      "12:26 bilby INFO    :   ra = 1.375\n",
      "12:26 bilby INFO    :   dec = -1.2108\n",
      "12:26 bilby INFO    : Injected signal in L1:\n",
      "12:26 bilby INFO    :   optimal SNR = 0.00\n",
      "12:26 bilby INFO    :   matched filter SNR = nan+nanj\n",
      "12:26 bilby INFO    :   mass_1 = 5000000.0\n",
      "12:26 bilby INFO    :   mass_2 = 6000000.0\n",
      "12:26 bilby INFO    :   a_1 = 0.4\n",
      "12:26 bilby INFO    :   a_2 = 0.3\n",
      "12:26 bilby INFO    :   tilt_1 = 0.0\n",
      "12:26 bilby INFO    :   tilt_2 = 0.0\n",
      "12:26 bilby INFO    :   phi_12 = 1.7\n",
      "12:26 bilby INFO    :   phi_jl = 0.3\n",
      "12:26 bilby INFO    :   luminosity_distance = 1000.0\n",
      "12:26 bilby INFO    :   theta_jn = 0.4\n",
      "12:26 bilby INFO    :   psi = 0.659\n",
      "12:26 bilby INFO    :   phase = 1.3\n",
      "12:26 bilby INFO    :   geocent_time = 1126259642.413\n",
      "12:26 bilby INFO    :   ra = 1.375\n",
      "12:26 bilby INFO    :   dec = -1.2108\n"
     ]
    },
    {
     "name": "stdout",
     "output_type": "stream",
     "text": [
      "16385\n",
      "32768\n"
     ]
    },
    {
     "data": {
      "text/plain": [
       "[{'plus': array([0.-0.j, 0.-0.j, 0.-0.j, ..., 0.-0.j, 0.-0.j, 0.-0.j]),\n",
       "  'cross': array([0.+0.j, 0.+0.j, 0.+0.j, ..., 0.+0.j, 0.+0.j, 0.+0.j])},\n",
       " {'plus': array([0.-0.j, 0.-0.j, 0.-0.j, ..., 0.-0.j, 0.-0.j, 0.-0.j]),\n",
       "  'cross': array([0.+0.j, 0.+0.j, 0.+0.j, ..., 0.+0.j, 0.+0.j, 0.+0.j])},\n",
       " {'plus': array([0.-0.j, 0.-0.j, 0.-0.j, ..., 0.-0.j, 0.-0.j, 0.-0.j]),\n",
       "  'cross': array([0.+0.j, 0.+0.j, 0.+0.j, ..., 0.+0.j, 0.+0.j, 0.+0.j])}]"
      ]
     },
     "execution_count": 61,
     "metadata": {},
     "output_type": "execute_result"
    }
   ],
   "source": [
    "# np.random.seed(170808)\n",
    "\n",
    "duration = 1638400 / scale_factor   # deltaF = 1.0e-6\n",
    "sampling_frequency = 2.0e-2 * scale_factor  # fmax = 1.0e-2\n",
    "\n",
    "injection_parameters = dict(\n",
    "    mass_1=5.0e6, mass_2=6.0e6, a_1=0.4, a_2=0.3, tilt_1=0.0, tilt_2=0.0,\n",
    "    phi_12=1.7, phi_jl=0.3, luminosity_distance=1000., theta_jn=0.4, psi=0.659,\n",
    "    phase=1.3, geocent_time=1126259642.413, ra=1.375, dec=-1.2108)\n",
    "\n",
    "waveform_arguments = dict(waveform_approximant='IMRPhenomPv2',\n",
    "                          reference_frequency=1.0e-4 * scale_factor,\n",
    "                          minimum_frequency=1.0e-4 * scale_factor)\n",
    "\n",
    "waveform_generator = bilby.gw.WaveformGenerator(\n",
    "    duration=duration, sampling_frequency=sampling_frequency,\n",
    "    frequency_domain_source_model=bilby.gw.source.lal_binary_black_hole,\n",
    "    waveform_arguments=waveform_arguments,\n",
    "    parameter_conversion=bilby.gw.conversion.convert_to_lal_binary_black_hole_parameters)\n",
    "\n",
    "# print(len(waveform_generator.frequency_array))\n",
    "# print(len(waveform_generator.time_array))\n",
    "\n",
    "frequency_array = waveform_generator.frequency_array\n",
    "ifos = bilby.gw.detector.InterferometerList(['H1','V1','L1'])\n",
    "ifos.set_strain_data_from_zero_noise(\n",
    "    sampling_frequency=sampling_frequency, duration=duration,\n",
    "    start_time=injection_parameters['geocent_time'] - 1638400 +1)\n",
    "ifos.inject_signal(waveform_generator=waveform_generator,\n",
    "                   parameters=injection_parameters)\n"
   ]
  },
  {
   "cell_type": "code",
   "execution_count": 62,
   "metadata": {},
   "outputs": [],
   "source": [
    "# make ROQ waveform generator\n",
    "search_waveform_generator = bilby.gw.waveform_generator.WaveformGenerator(\n",
    "    duration=duration, sampling_frequency=sampling_frequency,\n",
    "    frequency_domain_source_model=bilby.gw.source.binary_black_hole_roq,\n",
    "    waveform_arguments=dict(\n",
    "        frequency_nodes_linear=freq_nodes_linear,\n",
    "        frequency_nodes_quadratic=freq_nodes_quadratic,\n",
    "        reference_frequency=20. * scale_factor, waveform_approximant='IMRPhenomPv2'),\n",
    "    parameter_conversion=bilby.gw.conversion.convert_to_lal_binary_black_hole_parameters)\n",
    "\n",
    "# Here we add constraints on chirp mass and mass ratio to the prior\n",
    "# priors = bilby.gw.prior.BBHPriorDict()\n",
    "\n",
    "for key in ['a_1', 'a_2', 'tilt_1', 'tilt_2', 'theta_jn', 'phase', 'psi', 'ra',\n",
    "            'dec', 'phi_12', 'phi_jl', 'luminosity_distance']:\n",
    "    priors[key] = injection_parameters[key]\n",
    "for key in ['mass_1', 'mass_2']:\n",
    "    priors[key].minimum = max(priors[key].minimum, params['compmin'])\n",
    "priors['chirp_mass'] = bilby.core.prior.Constraint(\n",
    "    name='chirp_mass', minimum=float(params['chirpmassmin']),\n",
    "    maximum=float(params['chirpmassmax']))\n",
    "priors['mass_ratio'] = bilby.core.prior.Constraint(0.125, 1, name='mass_ratio')\n",
    "priors['geocent_time'] = bilby.core.prior.Uniform(\n",
    "    injection_parameters['geocent_time'] - 0.1,\n",
    "    injection_parameters['geocent_time'] + 0.1, latex_label='$t_c$', unit='s')"
   ]
  },
  {
   "cell_type": "code",
   "execution_count": 63,
   "metadata": {},
   "outputs": [
    {
     "name": "stderr",
     "output_type": "stream",
     "text": [
      "16:26 bilby WARNING : The waveform_generator start_time is not equal to that of the provided interferometers. Overwriting the waveform_generator.\n"
     ]
    },
    {
     "ename": "IndexError",
     "evalue": "index -1 is out of bounds for axis 0 with size 0",
     "output_type": "error",
     "traceback": [
      "\u001b[0;31m---------------------------------------------------------------------------\u001b[0m",
      "\u001b[0;31mIndexError\u001b[0m                                Traceback (most recent call last)",
      "\u001b[0;32m<ipython-input-63-17c85284af95>\u001b[0m in \u001b[0;36m<module>\u001b[0;34m\u001b[0m\n\u001b[1;32m      2\u001b[0m     \u001b[0minterferometers\u001b[0m\u001b[0;34m=\u001b[0m\u001b[0mifos\u001b[0m\u001b[0;34m,\u001b[0m \u001b[0mwaveform_generator\u001b[0m\u001b[0;34m=\u001b[0m\u001b[0msearch_waveform_generator\u001b[0m\u001b[0;34m,\u001b[0m\u001b[0;34m\u001b[0m\u001b[0;34m\u001b[0m\u001b[0m\n\u001b[1;32m      3\u001b[0m     \u001b[0mlinear_matrix\u001b[0m\u001b[0;34m=\u001b[0m\u001b[0mbasis_matrix_linear\u001b[0m\u001b[0;34m,\u001b[0m \u001b[0mquadratic_matrix\u001b[0m\u001b[0;34m=\u001b[0m\u001b[0mbasis_matrix_quadratic\u001b[0m\u001b[0;34m,\u001b[0m\u001b[0;34m\u001b[0m\u001b[0;34m\u001b[0m\u001b[0m\n\u001b[0;32m----> 4\u001b[0;31m     priors=priors, roq_params=params)\n\u001b[0m\u001b[1;32m      5\u001b[0m \u001b[0;34m\u001b[0m\u001b[0m\n\u001b[1;32m      6\u001b[0m \u001b[0;31m# write the weights to file so they can be loaded multiple times\u001b[0m\u001b[0;34m\u001b[0m\u001b[0;34m\u001b[0m\u001b[0;34m\u001b[0m\u001b[0m\n",
      "\u001b[0;32m~/.conda/envs/myenv/lib/python3.7/site-packages/bilby/gw/likelihood.py\u001b[0m in \u001b[0;36m__init__\u001b[0;34m(self, interferometers, waveform_generator, priors, weights, linear_matrix, quadratic_matrix, roq_params, distance_marginalization, phase_marginalization, distance_marginalization_lookup_table)\u001b[0m\n\u001b[1;32m    872\u001b[0m                 \u001b[0mquadratic_matrix\u001b[0m \u001b[0;34m=\u001b[0m \u001b[0mnp\u001b[0m\u001b[0;34m.\u001b[0m\u001b[0mload\u001b[0m\u001b[0;34m(\u001b[0m\u001b[0mquadratic_matrix\u001b[0m\u001b[0;34m)\u001b[0m\u001b[0;34m.\u001b[0m\u001b[0mT\u001b[0m\u001b[0;34m\u001b[0m\u001b[0;34m\u001b[0m\u001b[0m\n\u001b[1;32m    873\u001b[0m             self._set_weights(linear_matrix=linear_matrix,\n\u001b[0;32m--> 874\u001b[0;31m                               quadratic_matrix=quadratic_matrix)\n\u001b[0m\u001b[1;32m    875\u001b[0m         \u001b[0mself\u001b[0m\u001b[0;34m.\u001b[0m\u001b[0mfrequency_nodes_linear\u001b[0m \u001b[0;34m=\u001b[0m\u001b[0;31m\\\u001b[0m\u001b[0;34m\u001b[0m\u001b[0;34m\u001b[0m\u001b[0m\n\u001b[1;32m    876\u001b[0m             \u001b[0mwaveform_generator\u001b[0m\u001b[0;34m.\u001b[0m\u001b[0mwaveform_arguments\u001b[0m\u001b[0;34m[\u001b[0m\u001b[0;34m'frequency_nodes_linear'\u001b[0m\u001b[0;34m]\u001b[0m\u001b[0;34m\u001b[0m\u001b[0;34m\u001b[0m\u001b[0m\n",
      "\u001b[0;32m~/.conda/envs/myenv/lib/python3.7/site-packages/bilby/gw/likelihood.py\u001b[0m in \u001b[0;36m_set_weights\u001b[0;34m(self, linear_matrix, quadratic_matrix)\u001b[0m\n\u001b[1;32m    979\u001b[0m         \"\"\"\n\u001b[1;32m    980\u001b[0m \u001b[0;34m\u001b[0m\u001b[0m\n\u001b[0;32m--> 981\u001b[0;31m         \u001b[0mtime_space\u001b[0m \u001b[0;34m=\u001b[0m \u001b[0mself\u001b[0m\u001b[0;34m.\u001b[0m\u001b[0m_get_time_resolution\u001b[0m\u001b[0;34m(\u001b[0m\u001b[0;34m)\u001b[0m\u001b[0;34m\u001b[0m\u001b[0;34m\u001b[0m\u001b[0m\n\u001b[0m\u001b[1;32m    982\u001b[0m         \u001b[0;31m# Maximum delay time to geocentre + 5 steps\u001b[0m\u001b[0;34m\u001b[0m\u001b[0;34m\u001b[0m\u001b[0;34m\u001b[0m\u001b[0m\n\u001b[1;32m    983\u001b[0m         \u001b[0mearth_light_crossing_time\u001b[0m \u001b[0;34m=\u001b[0m \u001b[0mradius_of_earth\u001b[0m \u001b[0;34m/\u001b[0m \u001b[0mspeed_of_light\u001b[0m \u001b[0;34m+\u001b[0m \u001b[0;36m5\u001b[0m \u001b[0;34m*\u001b[0m \u001b[0mtime_space\u001b[0m\u001b[0;34m\u001b[0m\u001b[0;34m\u001b[0m\u001b[0m\n",
      "\u001b[0;32m~/.conda/envs/myenv/lib/python3.7/site-packages/bilby/gw/likelihood.py\u001b[0m in \u001b[0;36m_get_time_resolution\u001b[0;34m(self)\u001b[0m\n\u001b[1;32m   1130\u001b[0m         \u001b[0mpsd\u001b[0m \u001b[0;34m=\u001b[0m \u001b[0mifo\u001b[0m\u001b[0;34m.\u001b[0m\u001b[0mpower_spectral_density_array\u001b[0m\u001b[0;34m[\u001b[0m\u001b[0mifo\u001b[0m\u001b[0;34m.\u001b[0m\u001b[0mfrequency_mask\u001b[0m\u001b[0;34m]\u001b[0m\u001b[0;34m\u001b[0m\u001b[0;34m\u001b[0m\u001b[0m\n\u001b[1;32m   1131\u001b[0m         \u001b[0mfreq\u001b[0m \u001b[0;34m=\u001b[0m \u001b[0mifo\u001b[0m\u001b[0;34m.\u001b[0m\u001b[0mfrequency_array\u001b[0m\u001b[0;34m[\u001b[0m\u001b[0mifo\u001b[0m\u001b[0;34m.\u001b[0m\u001b[0mfrequency_mask\u001b[0m\u001b[0;34m]\u001b[0m\u001b[0;34m\u001b[0m\u001b[0;34m\u001b[0m\u001b[0m\n\u001b[0;32m-> 1132\u001b[0;31m         \u001b[0mfhigh\u001b[0m \u001b[0;34m=\u001b[0m \u001b[0mcalc_fhigh\u001b[0m\u001b[0;34m(\u001b[0m\u001b[0mfreq\u001b[0m\u001b[0;34m,\u001b[0m \u001b[0mpsd\u001b[0m\u001b[0;34m,\u001b[0m \u001b[0mscaling\u001b[0m\u001b[0;34m=\u001b[0m\u001b[0mc_f_scaling\u001b[0m\u001b[0;34m(\u001b[0m\u001b[0minj_snr_sq\u001b[0m\u001b[0;34m**\u001b[0m\u001b[0;36m0.5\u001b[0m\u001b[0;34m)\u001b[0m\u001b[0;34m)\u001b[0m\u001b[0;34m\u001b[0m\u001b[0;34m\u001b[0m\u001b[0m\n\u001b[0m\u001b[1;32m   1133\u001b[0m \u001b[0;34m\u001b[0m\u001b[0m\n\u001b[1;32m   1134\u001b[0m         \u001b[0mdelta_t\u001b[0m \u001b[0;34m=\u001b[0m \u001b[0mfhigh\u001b[0m\u001b[0;34m**\u001b[0m\u001b[0;34m-\u001b[0m\u001b[0;36m1\u001b[0m\u001b[0;34m\u001b[0m\u001b[0;34m\u001b[0m\u001b[0m\n",
      "\u001b[0;32m~/.conda/envs/myenv/lib/python3.7/site-packages/bilby/gw/likelihood.py\u001b[0m in \u001b[0;36mcalc_fhigh\u001b[0;34m(freq, psd, scaling)\u001b[0m\n\u001b[1;32m   1113\u001b[0m             \"\"\"\n\u001b[1;32m   1114\u001b[0m             \u001b[0mintegrand1\u001b[0m \u001b[0;34m=\u001b[0m \u001b[0mnp\u001b[0m\u001b[0;34m.\u001b[0m\u001b[0mpower\u001b[0m\u001b[0;34m(\u001b[0m\u001b[0mfreq\u001b[0m\u001b[0;34m,\u001b[0m \u001b[0;34m-\u001b[0m\u001b[0;36m7.\u001b[0m \u001b[0;34m/\u001b[0m \u001b[0;36m3\u001b[0m\u001b[0;34m)\u001b[0m \u001b[0;34m/\u001b[0m \u001b[0mpsd\u001b[0m\u001b[0;34m\u001b[0m\u001b[0;34m\u001b[0m\u001b[0m\n\u001b[0;32m-> 1115\u001b[0;31m             \u001b[0mintegral1\u001b[0m \u001b[0;34m=\u001b[0m \u001b[0mintegrate\u001b[0m\u001b[0;34m.\u001b[0m\u001b[0msimps\u001b[0m\u001b[0;34m(\u001b[0m\u001b[0mintegrand1\u001b[0m\u001b[0;34m,\u001b[0m \u001b[0mfreq\u001b[0m\u001b[0;34m)\u001b[0m\u001b[0;34m\u001b[0m\u001b[0;34m\u001b[0m\u001b[0m\n\u001b[0m\u001b[1;32m   1116\u001b[0m             \u001b[0mintegrand3\u001b[0m \u001b[0;34m=\u001b[0m \u001b[0mnp\u001b[0m\u001b[0;34m.\u001b[0m\u001b[0mpower\u001b[0m\u001b[0;34m(\u001b[0m\u001b[0mfreq\u001b[0m\u001b[0;34m,\u001b[0m \u001b[0;36m2.\u001b[0m \u001b[0;34m/\u001b[0m \u001b[0;36m3.\u001b[0m\u001b[0;34m)\u001b[0m \u001b[0;34m/\u001b[0m \u001b[0;34m(\u001b[0m\u001b[0mpsd\u001b[0m \u001b[0;34m*\u001b[0m \u001b[0mintegral1\u001b[0m\u001b[0;34m)\u001b[0m\u001b[0;34m\u001b[0m\u001b[0;34m\u001b[0m\u001b[0m\n\u001b[1;32m   1117\u001b[0m             \u001b[0mf_3_bar\u001b[0m \u001b[0;34m=\u001b[0m \u001b[0mintegrate\u001b[0m\u001b[0;34m.\u001b[0m\u001b[0msimps\u001b[0m\u001b[0;34m(\u001b[0m\u001b[0mintegrand3\u001b[0m\u001b[0;34m,\u001b[0m \u001b[0mfreq\u001b[0m\u001b[0;34m)\u001b[0m\u001b[0;34m\u001b[0m\u001b[0;34m\u001b[0m\u001b[0m\n",
      "\u001b[0;32m~/.conda/envs/myenv/lib/python3.7/site-packages/scipy/integrate/quadrature.py\u001b[0m in \u001b[0;36msimps\u001b[0;34m(y, x, dx, axis, even)\u001b[0m\n\u001b[1;32m    485\u001b[0m             \u001b[0mslice2\u001b[0m \u001b[0;34m=\u001b[0m \u001b[0mtupleset\u001b[0m\u001b[0;34m(\u001b[0m\u001b[0mslice2\u001b[0m\u001b[0;34m,\u001b[0m \u001b[0maxis\u001b[0m\u001b[0;34m,\u001b[0m \u001b[0;34m-\u001b[0m\u001b[0;36m2\u001b[0m\u001b[0;34m)\u001b[0m\u001b[0;34m\u001b[0m\u001b[0;34m\u001b[0m\u001b[0m\n\u001b[1;32m    486\u001b[0m             \u001b[0;32mif\u001b[0m \u001b[0mx\u001b[0m \u001b[0;32mis\u001b[0m \u001b[0;32mnot\u001b[0m \u001b[0;32mNone\u001b[0m\u001b[0;34m:\u001b[0m\u001b[0;34m\u001b[0m\u001b[0;34m\u001b[0m\u001b[0m\n\u001b[0;32m--> 487\u001b[0;31m                 \u001b[0mlast_dx\u001b[0m \u001b[0;34m=\u001b[0m \u001b[0mx\u001b[0m\u001b[0;34m[\u001b[0m\u001b[0mslice1\u001b[0m\u001b[0;34m]\u001b[0m \u001b[0;34m-\u001b[0m \u001b[0mx\u001b[0m\u001b[0;34m[\u001b[0m\u001b[0mslice2\u001b[0m\u001b[0;34m]\u001b[0m\u001b[0;34m\u001b[0m\u001b[0;34m\u001b[0m\u001b[0m\n\u001b[0m\u001b[1;32m    488\u001b[0m             \u001b[0mval\u001b[0m \u001b[0;34m+=\u001b[0m \u001b[0;36m0.5\u001b[0m\u001b[0;34m*\u001b[0m\u001b[0mlast_dx\u001b[0m\u001b[0;34m*\u001b[0m\u001b[0;34m(\u001b[0m\u001b[0my\u001b[0m\u001b[0;34m[\u001b[0m\u001b[0mslice1\u001b[0m\u001b[0;34m]\u001b[0m\u001b[0;34m+\u001b[0m\u001b[0my\u001b[0m\u001b[0;34m[\u001b[0m\u001b[0mslice2\u001b[0m\u001b[0;34m]\u001b[0m\u001b[0;34m)\u001b[0m\u001b[0;34m\u001b[0m\u001b[0;34m\u001b[0m\u001b[0m\n\u001b[1;32m    489\u001b[0m             \u001b[0mresult\u001b[0m \u001b[0;34m=\u001b[0m \u001b[0m_basic_simps\u001b[0m\u001b[0;34m(\u001b[0m\u001b[0my\u001b[0m\u001b[0;34m,\u001b[0m \u001b[0;36m0\u001b[0m\u001b[0;34m,\u001b[0m \u001b[0mN\u001b[0m\u001b[0;34m-\u001b[0m\u001b[0;36m3\u001b[0m\u001b[0;34m,\u001b[0m \u001b[0mx\u001b[0m\u001b[0;34m,\u001b[0m \u001b[0mdx\u001b[0m\u001b[0;34m,\u001b[0m \u001b[0maxis\u001b[0m\u001b[0;34m)\u001b[0m\u001b[0;34m\u001b[0m\u001b[0;34m\u001b[0m\u001b[0m\n",
      "\u001b[0;31mIndexError\u001b[0m: index -1 is out of bounds for axis 0 with size 0"
     ]
    }
   ],
   "source": [
    "likelihood = bilby.gw.likelihood.ROQGravitationalWaveTransient(\n",
    "    interferometers=ifos, waveform_generator=search_waveform_generator,\n",
    "    linear_matrix=basis_matrix_linear, quadratic_matrix=basis_matrix_quadratic,\n",
    "    priors=priors, roq_params=params)\n",
    "\n",
    "# write the weights to file so they can be loaded multiple times\n",
    "likelihood.save_weights('weights.json')\n",
    "\n",
    "# remove the basis matrices as these are big for longer bases\n",
    "del basis_matrix_linear, basis_matrix_quadratic\n",
    "\n",
    "# load the weights from the file\n",
    "likelihood = bilby.gw.likelihood.ROQGravitationalWaveTransient(\n",
    "    interferometers=ifos, waveform_generator=search_waveform_generator,\n",
    "    weights='weights.json.npz', priors=priors)\n",
    "\n",
    "result = bilby.run_sampler(\n",
    "    likelihood=likelihood, priors=priors, sampler='pymultinest', npoints=500,\n",
    "    injection_parameters=injection_parameters, outdir=outdir, label=label)\n",
    "\n",
    "# Make a corner plot.\n",
    "result.plot_corner()"
   ]
  },
  {
   "cell_type": "code",
   "execution_count": null,
   "metadata": {},
   "outputs": [],
   "source": []
  }
 ],
 "metadata": {
  "kernelspec": {
   "display_name": "Python (myenv)",
   "language": "python",
   "name": "myenv"
  },
  "language_info": {
   "codemirror_mode": {
    "name": "ipython",
    "version": 3
   },
   "file_extension": ".py",
   "mimetype": "text/x-python",
   "name": "python",
   "nbconvert_exporter": "python",
   "pygments_lexer": "ipython3",
   "version": "3.7.3"
  }
 },
 "nbformat": 4,
 "nbformat_minor": 4
}
