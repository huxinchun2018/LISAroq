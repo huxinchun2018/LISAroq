{
 "cells": [
  {
   "cell_type": "code",
   "execution_count": 33,
   "metadata": {},
   "outputs": [],
   "source": [
    "#!/usr/bin/env python\n",
    "# coding: utf-8\n",
    "\n",
    "# In[3]:\n",
    "\n",
    "\n",
    "#!/usr/bin/env python\n",
    "\n",
    "from __future__ import division, print_function\n",
    "\n",
    "import numpy as np\n",
    "import matplotlib.pyplot as plt\n",
    "import bilby\n",
    "\n",
    "outdir = 'outdir'\n",
    "label = 'LISAstatic_roq_PE'\n"
   ]
  },
  {
   "cell_type": "code",
   "execution_count": 34,
   "metadata": {},
   "outputs": [],
   "source": [
    "scale_factor = 1.0\n",
    "\n",
    "# Load in the pieces for the linear part of the ROQ. Note you will need to\n",
    "# adjust the filenames here to the correct paths on your machine\n",
    "basis_matrix_linear = np.load(\"B_linear.npy\").T\n",
    "freq_nodes_linear = np.load(\"fnodes_linear.npy\") * scale_factor\n",
    "\n",
    "# Load in the pieces for the quadratic part of the ROQ\n",
    "basis_matrix_quadratic = np.load(\"B_quadratic.npy\").T\n",
    "freq_nodes_quadratic = np.load(\"fnodes_quadratic.npy\") * scale_factor\n",
    "\n",
    "# Load the parameters describing the valid parameters for the basis.\n",
    "# params = np.genfromtxt(\"/Users/hxc/Downloads/ROQ_data-master/IMRPhenomPv2/4s/params.dat\", names=True)\n",
    "params = np.genfromtxt(\"params.dat\", names=True)\n",
    "params['flow'] *= scale_factor\n",
    "params['fhigh'] *= scale_factor\n",
    "params['seglen'] /= scale_factor\n",
    "params['chirpmassmin'] /= scale_factor\n",
    "params['chirpmassmax'] /= scale_factor\n",
    "params['compmin'] /= scale_factor\n",
    "\n"
   ]
  },
  {
   "cell_type": "code",
   "execution_count": 35,
   "metadata": {},
   "outputs": [
    {
     "data": {
      "image/png": "[encoded data removed]",
      "text/plain": [
       "<Figure size 432x288 with 1 Axes>"
      ]
     },
     "metadata": {
      "needs_background": "light"
     },
     "output_type": "display_data"
    }
   ],
   "source": [
    "# Set up a random seed for result reproducibility.  This is optional!\n",
    "np.random.seed(88170232)\n",
    "\n",
    "duration = 1638400 / scale_factor   # deltaF = 1.0e-6\n",
    "sampling_frequency = 2.0e-2 * scale_factor  # fmax = 1.0e-2\n",
    "\n",
    "injection_parameters = dict(\n",
    "    mass_1=3.6e6, mass_2=2.9e6, a_1=0.4, a_2=0.3, tilt_1=0.0, tilt_2=0.0,\n",
    "    phi_12=1.7, phi_jl=0.3, luminosity_distance=1000, theta_jn=0.4, psi=0.659,\n",
    "    phase=1.3, geocent_time=1126259642.413, ra=1.375, dec=-1.2108)\n",
    "\n",
    "waveform_arguments = dict(waveform_approximant='IMRPhenomPv2',\n",
    "                          reference_frequency=1.0e-4,\n",
    "                          minimum_frequency=1.0e-4)\n",
    "\n",
    "waveform_generator = bilby.gw.WaveformGenerator(\n",
    "    duration=duration, sampling_frequency=sampling_frequency,\n",
    "    frequency_domain_source_model=bilby.gw.source.lal_binary_black_hole,\n",
    "    waveform_arguments=waveform_arguments,\n",
    "    start_time=injection_parameters['geocent_time'] - duration)\n",
    "\n",
    "\n",
    "freq = waveform_generator.frequency_array\n",
    "hplus = waveform_generator.frequency_domain_strain(injection_parameters)['plus']\n",
    "hcross = waveform_generator.frequency_domain_strain(injection_parameters)['cross']\n",
    "plt.plot(freq, hplus,label='+')\n",
    "plt.plot(freq, hcross,label='x')\n",
    "plt.xlabel('log(freq) (Hz)')\n",
    "plt.ylabel('strain')\n",
    "plt.legend()\n",
    "plt.xscale('log')\n",
    "plt.savefig('LISA_IMRPhenomPv2_waveform.png', dpi=200)"
   ]
  },
  {
   "cell_type": "code",
   "execution_count": 36,
   "metadata": {},
   "outputs": [
    {
     "name": "stderr",
     "output_type": "stream",
     "text": [
      "11:35 bilby INFO    : Injected signal in LISA_static:\n",
      "11:35 bilby INFO    :   optimal SNR = 39195.52\n",
      "11:35 bilby INFO    :   matched filter SNR = 39195.52+0.00j\n",
      "11:35 bilby INFO    :   mass_1 = 3600000.0\n",
      "11:35 bilby INFO    :   mass_2 = 2900000.0\n",
      "11:35 bilby INFO    :   a_1 = 0.4\n",
      "11:35 bilby INFO    :   a_2 = 0.3\n",
      "11:35 bilby INFO    :   tilt_1 = 0.0\n",
      "11:35 bilby INFO    :   tilt_2 = 0.0\n",
      "11:35 bilby INFO    :   phi_12 = 1.7\n",
      "11:35 bilby INFO    :   phi_jl = 0.3\n",
      "11:35 bilby INFO    :   luminosity_distance = 1000\n",
      "11:35 bilby INFO    :   theta_jn = 0.4\n",
      "11:35 bilby INFO    :   psi = 0.659\n",
      "11:35 bilby INFO    :   phase = 1.3\n",
      "11:35 bilby INFO    :   geocent_time = 1126259642.413\n",
      "11:35 bilby INFO    :   ra = 1.375\n",
      "11:35 bilby INFO    :   dec = -1.2108\n"
     ]
    }
   ],
   "source": [
    "# The location of this new detector is not defined in Bilby, so we need to add it\n",
    "LISA_static = bilby.gw.detector.Interferometer(\n",
    "    power_spectral_density=bilby.gw.detector.PowerSpectralDensity(\n",
    "        psd_file='lisa_psd.txt'),\n",
    "    name='LISA_static', length=2.5e6,\n",
    "    minimum_frequency=min(waveform_generator.frequency_array), \\\n",
    "    maximum_frequency=max(waveform_generator.frequency_array),\n",
    "    latitude=-31.34, longitude=115.91,\n",
    "    elevation=0., xarm_azimuth=2., yarm_azimuth=125.)\n",
    "\n",
    "# Set up new detector to InterferomerList\n",
    "interferometers = bilby.gw.detector.InterferometerList([])\n",
    "\n",
    "# append the new detector to the list \n",
    "interferometer = interferometers.append(LISA_static)\n",
    "\n",
    "\n",
    "for interferometer in interferometers:\n",
    "    interferometer.set_strain_data_from_zero_noise(\n",
    "        sampling_frequency=sampling_frequency, duration=duration,\n",
    "     start_time=injection_parameters['geocent_time'] - duration)\n",
    "    interferometer.inject_signal(\n",
    "        parameters=injection_parameters, waveform_generator=waveform_generator)\n"
   ]
  },
  {
   "cell_type": "code",
   "execution_count": 37,
   "metadata": {},
   "outputs": [],
   "source": [
    "# make ROQ waveform generator\n",
    "search_waveform_generator = bilby.gw.waveform_generator.WaveformGenerator(\n",
    "    duration=duration, sampling_frequency=sampling_frequency,\n",
    "    start_time=injection_parameters['geocent_time'] - duration,\n",
    "    frequency_domain_source_model=bilby.gw.source.binary_black_hole_roq,\n",
    "    waveform_arguments=dict(\n",
    "        frequency_nodes_linear=freq_nodes_linear,\n",
    "        frequency_nodes_quadratic=freq_nodes_quadratic,\n",
    "        reference_frequency=1.0e-4 * scale_factor, waveform_approximant='IMRPhenomPv2'),\n",
    "    parameter_conversion=bilby.gw.conversion.convert_to_lal_binary_black_hole_parameters)\n"
   ]
  },
  {
   "cell_type": "code",
   "execution_count": 38,
   "metadata": {},
   "outputs": [],
   "source": [
    "# create the priors\n",
    "priors = dict()\n",
    "for key in ['a_1', 'a_2', 'tilt_1', 'tilt_2', 'theta_jn', 'phase', 'psi', 'ra',\n",
    "            'dec', 'phi_12', 'phi_jl', 'luminosity_distance']:\n",
    "    priors[key] = injection_parameters[key]\n",
    "    \n",
    "priors['mass_1'] = bilby.core.prior.Uniform(2.0e6, 5.0e6, name='mass_1')\n",
    "priors['mass_2'] = bilby.core.prior.Uniform(2.0e6, 5.0e6, name='mass_2')\n",
    "priors['geocent_time'] = bilby.core.prior.Uniform(\n",
    "    injection_parameters['geocent_time'] - 5.0,\n",
    "    injection_parameters['geocent_time'] + 5.0, latex_label='$t_c$', unit='s')\n"
   ]
  },
  {
   "cell_type": "code",
   "execution_count": 42,
   "metadata": {},
   "outputs": [
    {
     "name": "stderr",
     "output_type": "stream",
     "text": [
      "11:56 bilby INFO    : ROQ time-step = nan\n"
     ]
    },
    {
     "ename": "ValueError",
     "evalue": "arange: cannot compute length",
     "output_type": "error",
     "traceback": [
      "\u001b[0;31m---------------------------------------------------------------------------\u001b[0m",
      "\u001b[0;31mValueError\u001b[0m                                Traceback (most recent call last)",
      "\u001b[0;32m<ipython-input-42-5ca62a6daadd>\u001b[0m in \u001b[0;36m<module>\u001b[0;34m\u001b[0m\n\u001b[1;32m      2\u001b[0m     \u001b[0minterferometers\u001b[0m\u001b[0;34m=\u001b[0m\u001b[0minterferometers\u001b[0m\u001b[0;34m,\u001b[0m \u001b[0mwaveform_generator\u001b[0m\u001b[0;34m=\u001b[0m\u001b[0msearch_waveform_generator\u001b[0m\u001b[0;34m,\u001b[0m\u001b[0;34m\u001b[0m\u001b[0;34m\u001b[0m\u001b[0m\n\u001b[1;32m      3\u001b[0m     \u001b[0mlinear_matrix\u001b[0m\u001b[0;34m=\u001b[0m\u001b[0mbasis_matrix_linear\u001b[0m\u001b[0;34m,\u001b[0m \u001b[0mquadratic_matrix\u001b[0m\u001b[0;34m=\u001b[0m\u001b[0mbasis_matrix_quadratic\u001b[0m\u001b[0;34m,\u001b[0m\u001b[0;34m\u001b[0m\u001b[0;34m\u001b[0m\u001b[0m\n\u001b[0;32m----> 4\u001b[0;31m     priors=priors, roq_params=params)\n\u001b[0m\u001b[1;32m      5\u001b[0m \u001b[0;34m\u001b[0m\u001b[0m\n\u001b[1;32m      6\u001b[0m \u001b[0;31m# write the weights to file so they can be loaded multiple times\u001b[0m\u001b[0;34m\u001b[0m\u001b[0;34m\u001b[0m\u001b[0;34m\u001b[0m\u001b[0m\n",
      "\u001b[0;32m/anaconda3/lib/python3.7/site-packages/bilby/gw/likelihood.py\u001b[0m in \u001b[0;36m__init__\u001b[0;34m(self, interferometers, waveform_generator, priors, weights, linear_matrix, quadratic_matrix, roq_params, distance_marginalization, phase_marginalization, distance_marginalization_lookup_table)\u001b[0m\n\u001b[1;32m    856\u001b[0m                 \u001b[0mquadratic_matrix\u001b[0m \u001b[0;34m=\u001b[0m \u001b[0mnp\u001b[0m\u001b[0;34m.\u001b[0m\u001b[0mload\u001b[0m\u001b[0;34m(\u001b[0m\u001b[0mquadratic_matrix\u001b[0m\u001b[0;34m)\u001b[0m\u001b[0;34m.\u001b[0m\u001b[0mT\u001b[0m\u001b[0;34m\u001b[0m\u001b[0;34m\u001b[0m\u001b[0m\n\u001b[1;32m    857\u001b[0m             self._set_weights(linear_matrix=linear_matrix,\n\u001b[0;32m--> 858\u001b[0;31m                               quadratic_matrix=quadratic_matrix)\n\u001b[0m\u001b[1;32m    859\u001b[0m         \u001b[0mself\u001b[0m\u001b[0;34m.\u001b[0m\u001b[0mfrequency_nodes_linear\u001b[0m \u001b[0;34m=\u001b[0m\u001b[0;31m\\\u001b[0m\u001b[0;34m\u001b[0m\u001b[0;34m\u001b[0m\u001b[0m\n\u001b[1;32m    860\u001b[0m             \u001b[0mwaveform_generator\u001b[0m\u001b[0;34m.\u001b[0m\u001b[0mwaveform_arguments\u001b[0m\u001b[0;34m[\u001b[0m\u001b[0;34m'frequency_nodes_linear'\u001b[0m\u001b[0;34m]\u001b[0m\u001b[0;34m\u001b[0m\u001b[0;34m\u001b[0m\u001b[0m\n",
      "\u001b[0;32m/anaconda3/lib/python3.7/site-packages/bilby/gw/likelihood.py\u001b[0m in \u001b[0;36m_set_weights\u001b[0;34m(self, linear_matrix, quadratic_matrix)\u001b[0m\n\u001b[1;32m    969\u001b[0m             \u001b[0mself\u001b[0m\u001b[0;34m.\u001b[0m\u001b[0mpriors\u001b[0m\u001b[0;34m[\u001b[0m\u001b[0;34m'geocent_time'\u001b[0m\u001b[0;34m]\u001b[0m\u001b[0;34m.\u001b[0m\u001b[0mminimum\u001b[0m \u001b[0;34m-\u001b[0m \u001b[0mearth_light_crossing_time\u001b[0m\u001b[0;34m,\u001b[0m\u001b[0;34m\u001b[0m\u001b[0;34m\u001b[0m\u001b[0m\n\u001b[1;32m    970\u001b[0m             \u001b[0mself\u001b[0m\u001b[0;34m.\u001b[0m\u001b[0mpriors\u001b[0m\u001b[0;34m[\u001b[0m\u001b[0;34m'geocent_time'\u001b[0m\u001b[0;34m]\u001b[0m\u001b[0;34m.\u001b[0m\u001b[0mmaximum\u001b[0m \u001b[0;34m+\u001b[0m \u001b[0mearth_light_crossing_time\u001b[0m\u001b[0;34m,\u001b[0m\u001b[0;34m\u001b[0m\u001b[0;34m\u001b[0m\u001b[0m\n\u001b[0;32m--> 971\u001b[0;31m             time_space)\n\u001b[0m\u001b[1;32m    972\u001b[0m         \u001b[0mtime_samples\u001b[0m \u001b[0;34m=\u001b[0m \u001b[0mdelta_times\u001b[0m \u001b[0;34m-\u001b[0m \u001b[0mself\u001b[0m\u001b[0;34m.\u001b[0m\u001b[0minterferometers\u001b[0m\u001b[0;34m.\u001b[0m\u001b[0mstart_time\u001b[0m\u001b[0;34m\u001b[0m\u001b[0;34m\u001b[0m\u001b[0m\n\u001b[1;32m    973\u001b[0m         \u001b[0mself\u001b[0m\u001b[0;34m.\u001b[0m\u001b[0mweights\u001b[0m\u001b[0;34m[\u001b[0m\u001b[0;34m'time_samples'\u001b[0m\u001b[0;34m]\u001b[0m \u001b[0;34m=\u001b[0m \u001b[0mtime_samples\u001b[0m\u001b[0;34m\u001b[0m\u001b[0;34m\u001b[0m\u001b[0m\n",
      "\u001b[0;31mValueError\u001b[0m: arange: cannot compute length"
     ]
    }
   ],
   "source": [
    "likelihood = bilby.gw.likelihood.ROQGravitationalWaveTransient(\n",
    "    interferometers=interferometers, waveform_generator=search_waveform_generator,\n",
    "    linear_matrix=basis_matrix_linear, quadratic_matrix=basis_matrix_quadratic,\n",
    "    priors=priors, roq_params=params)\n",
    "\n",
    "# write the weights to file so they can be loaded multiple times\n",
    "likelihood.save_weights('weights.npz')\n",
    "\n",
    "# remove the basis matrices as these are big for longer bases\n",
    "del basis_matrix_linear, basis_matrix_quadratic\n",
    "\n",
    "# load the weights from the file\n",
    "likelihood = bilby.gw.likelihood.ROQGravitationalWaveTransient(\n",
    "    interferometers=interfermeters, waveform_generator=search_waveform_generator,\n",
    "    weights='weights.npz', priors=priors)\n",
    "\n",
    "result = bilby.run_sampler(\n",
    "    likelihood=likelihood, priors=priors, sampler='dynesty', npoints=500,\n",
    "    injection_parameters=injection_parameters, outdir=outdir, label=label)\n",
    "\n",
    "# Make a corner plot.\n",
    "result.plot_corner()\n",
    "\n"
   ]
  },
  {
   "cell_type": "code",
   "execution_count": null,
   "metadata": {},
   "outputs": [],
   "source": []
  },
  {
   "cell_type": "code",
   "execution_count": null,
   "metadata": {},
   "outputs": [],
   "source": []
  },
  {
   "cell_type": "code",
   "execution_count": null,
   "metadata": {},
   "outputs": [],
   "source": []
  }
 ],
 "metadata": {
  "kernelspec": {
   "display_name": "Python 3",
   "language": "python",
   "name": "python3"
  },
  "language_info": {
   "codemirror_mode": {
    "name": "ipython",
    "version": 3
   },
   "file_extension": ".py",
   "mimetype": "text/x-python",
   "name": "python",
   "nbconvert_exporter": "python",
   "pygments_lexer": "ipython3",
   "version": "3.7.3"
  }
 },
 "nbformat": 4,
 "nbformat_minor": 2
}
