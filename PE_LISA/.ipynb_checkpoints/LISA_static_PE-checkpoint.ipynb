{
 "cells": [
  {
   "cell_type": "markdown",
   "metadata": {},
   "source": [
    "Tutorial to demonstrate a new interferometer"
   ]
  },
  {
   "cell_type": "code",
   "execution_count": null,
   "metadata": {},
   "outputs": [],
   "source": [
    "# pip install gwinc"
   ]
  },
  {
   "cell_type": "code",
   "execution_count": null,
   "metadata": {},
   "outputs": [],
   "source": [
    "#!/bin/python\n",
    "\"\"\"\n",
    "Tutorial to demonstrate a new interferometer\n",
    "\n",
    "We place a new instrument in Gingin, with an A+ sensitivity in a network of A+\n",
    "interferometers at Hanford and Livingston\n",
    "\"\"\"\n",
    "from __future__ import division, print_function\n",
    "\n",
    "import numpy as np\n",
    "from datetime import datetime \n",
    "import matplotlib.pyplot as plt\n",
    "\n",
    "import bilby\n",
    "\n",
    "# Set the duration and sampling frequency of the data segment that we're going\n",
    "# to inject the signal into\n",
    "duration = 1638400.\n",
    "sampling_frequency = 2.0e-2\n",
    "\n",
    "# Specify the output directory and the name of the simulation.\n",
    "outdir = 'dynesty_1000'\n",
    "label = 'LISA_static'\n",
    "bilby.core.utils.setup_logger(outdir=outdir, label=label)\n",
    "\n",
    "\n",
    "start_time = datetime.now()"
   ]
  },
  {
   "cell_type": "code",
   "execution_count": null,
   "metadata": {},
   "outputs": [],
   "source": [
    "# Set up a random seed for result reproducibility.  This is optional!\n",
    "np.random.seed(88170232)\n",
    "\n",
    "injection_parameters = dict(\n",
    "    mass_1=3.6e6, mass_2=2.9e6, a_1=0.4, a_2=0.3, tilt_1=0.0, tilt_2=0.0,\n",
    "    phi_12=1.7, phi_jl=0.3, luminosity_distance=1000, theta_jn=0.4, psi=0.659,\n",
    "    phase=1.3, geocent_time=1126259642.413, ra=1.375, dec=-1.2108)\n",
    "\n",
    "waveform_arguments = dict(waveform_approximant='IMRPhenomPv2',\n",
    "                          reference_frequency=1.0e-4,\n",
    "                          minimum_frequency=1.0e-4)\n",
    "\n",
    "waveform_generator = bilby.gw.WaveformGenerator(\n",
    "    duration=duration, sampling_frequency=sampling_frequency,\n",
    "    frequency_domain_source_model=bilby.gw.source.lal_binary_black_hole,\n",
    "    waveform_arguments=waveform_arguments,\n",
    "    start_time=injection_parameters['geocent_time'] - duration)\n",
    "\n",
    "\n",
    "freq = waveform_generator.frequency_array\n",
    "hplus = waveform_generator.frequency_domain_strain(injection_parameters)['plus']\n",
    "hcross = waveform_generator.frequency_domain_strain(injection_parameters)['cross']\n",
    "plt.plot(freq, hplus,label='+')\n",
    "plt.plot(freq, hcross,label='x')\n",
    "plt.xlabel('log(freq) (Hz)')\n",
    "plt.ylabel('strain')\n",
    "plt.legend()\n",
    "plt.xscale('log')\n",
    "plt.savefig('LISA_IMRPhenomPv2_waveform.png', dpi=200)"
   ]
  },
  {
   "cell_type": "code",
   "execution_count": null,
   "metadata": {},
   "outputs": [],
   "source": [
    "# The location of this new detector is not defined in Bilby, so we need to add it\n",
    "LISA_static = bilby.gw.detector.Interferometer(\n",
    "    power_spectral_density=bilby.gw.detector.PowerSpectralDensity(\n",
    "        psd_file='lisa_psd.txt'),\n",
    "    name='LISA_static', length=2.5e6,\n",
    "    minimum_frequency=1.0e-4, \\\n",
    "    maximum_frequency=max(waveform_generator.frequency_array),\n",
    "    latitude=-31.34, longitude=115.91,\n",
    "    elevation=0., xarm_azimuth=2., yarm_azimuth=125.)\n",
    "\n",
    "# Set up new detector to InterferomerList\n",
    "interferometers = bilby.gw.detector.InterferometerList([])\n",
    "\n",
    "# append the new detector to the list \n",
    "interferometer = interferometers.append(LISA_static)\n",
    "\n",
    "\n",
    "for interferometer in interferometers:\n",
    "    interferometer.set_strain_data_from_zero_noise(\n",
    "        sampling_frequency=sampling_frequency, duration=duration,\n",
    "     start_time=injection_parameters['geocent_time'] - duration)\n",
    "    interferometer.inject_signal(\n",
    "        parameters=injection_parameters, waveform_generator=waveform_generator)\n",
    "\n",
    "#     # plot the data for sanity\n",
    "#     signal = interferometer.get_detector_response(\n",
    "#         waveform_generator.frequency_domain_strain(), injection_parameters)\n",
    "#     interferometer.plot_data(signal=signal, outdir=outdir, label=label)"
   ]
  },
  {
   "cell_type": "code",
   "execution_count": null,
   "metadata": {},
   "outputs": [],
   "source": [
    "# print(interferometer.frequency_mask[0:10])"
   ]
  },
  {
   "cell_type": "code",
   "execution_count": null,
   "metadata": {},
   "outputs": [],
   "source": [
    "#  create the priors\n",
    "priors = dict()\n",
    "for key in ['a_1', 'a_2', 'tilt_1', 'tilt_2', 'theta_jn', 'phase', 'psi', 'ra',\n",
    "            'dec', 'phi_12', 'phi_jl', 'luminosity_distance']:\n",
    "    priors[key] = injection_parameters[key]\n",
    "    \n",
    "priors['mass_1'] = bilby.core.prior.Uniform(2.0e6, 5.0e6, name='mass_1')\n",
    "priors['mass_2'] = bilby.core.prior.Uniform(2.0e6, 5.0e6, name='mass_2')\n",
    "priors['geocent_time'] = bilby.core.prior.Uniform(\n",
    "    injection_parameters['geocent_time'] - 1000,\n",
    "    injection_parameters['geocent_time'] + 1000, latex_label='$t_c$', unit='s')\n",
    "\n",
    "\n",
    "\n",
    "# define likelihood\n",
    "likelihood = bilby.gw.GravitationalWaveTransient(\n",
    "    interferometers=interferometers, waveform_generator=waveform_generator)\n",
    "\n",
    "# launch sampler\n",
    "result = bilby.run_sampler(\n",
    "    likelihood=likelihood, priors=priors, sampler='dynesty', npoints=512,\n",
    "    injection_parameters=injection_parameters, outdir=outdir, label=label)\n",
    "\n",
    "result.plot_corner()\n",
    "\n",
    "\n",
    "end_time = datetime.now()\n",
    "running_time = end_time - start_time\n",
    "print(running_time)"
   ]
  },
  {
   "cell_type": "code",
   "execution_count": null,
   "metadata": {},
   "outputs": [],
   "source": []
  },
  {
   "cell_type": "code",
   "execution_count": null,
   "metadata": {},
   "outputs": [],
   "source": []
  }
 ],
 "metadata": {
  "kernelspec": {
   "display_name": "Python 3",
   "language": "python",
   "name": "python3"
  },
  "language_info": {
   "codemirror_mode": {
    "name": "ipython",
    "version": 3
   },
   "file_extension": ".py",
   "mimetype": "text/x-python",
   "name": "python",
   "nbconvert_exporter": "python",
   "pygments_lexer": "ipython3",
   "version": "3.7.3"
  }
 },
 "nbformat": 4,
 "nbformat_minor": 4
}
