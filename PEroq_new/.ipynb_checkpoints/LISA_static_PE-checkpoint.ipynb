{
 "cells": [
  {
   "cell_type": "markdown",
   "metadata": {},
   "source": [
    "Tutorial to demonstrate a new interferometer"
   ]
  },
  {
   "cell_type": "code",
   "execution_count": null,
   "metadata": {},
   "outputs": [],
   "source": [
    "# pip install gwinc"
   ]
  },
  {
   "cell_type": "code",
   "execution_count": 1,
   "metadata": {},
   "outputs": [
    {
     "name": "stderr",
     "output_type": "stream",
     "text": [
      "16:02 bilby INFO    : Running bilby version: 0.5.3:\n"
     ]
    }
   ],
   "source": [
    "#!/bin/python\n",
    "\"\"\"\n",
    "Tutorial to demonstrate a new interferometer\n",
    "\n",
    "We place a new instrument in Gingin, with an A+ sensitivity in a network of A+\n",
    "interferometers at Hanford and Livingston\n",
    "\"\"\"\n",
    "from __future__ import division, print_function\n",
    "\n",
    "import numpy as np\n",
    "from datetime import datetime \n",
    "import matplotlib.pyplot as plt\n",
    "\n",
    "import bilby\n",
    "\n",
    "# Set the duration and sampling frequency of the data segment that we're going\n",
    "# to inject the signal into\n",
    "duration = 1638400.\n",
    "sampling_frequency = 2.0e-2\n",
    "\n",
    "# Specify the output directory and the name of the simulation.\n",
    "outdir = 'ourdir'\n",
    "label = 'LISA_static'\n",
    "bilby.core.utils.setup_logger(outdir=outdir, label=label)\n",
    "\n",
    "\n",
    "start_time = datetime.now()"
   ]
  },
  {
   "cell_type": "code",
   "execution_count": 2,
   "metadata": {},
   "outputs": [
    {
     "name": "stderr",
     "output_type": "stream",
     "text": [
      "/anaconda3/lib/python3.7/site-packages/numpy/core/numeric.py:501: ComplexWarning: Casting complex values to real discards the imaginary part\n",
      "  return array(a, dtype, copy=False, order=order)\n"
     ]
    },
    {
     "data": {
      "image/png": "[encoded data removed]",
      "text/plain": [
       "<Figure size 432x288 with 1 Axes>"
      ]
     },
     "metadata": {
      "needs_background": "light"
     },
     "output_type": "display_data"
    }
   ],
   "source": [
    "# Set up a random seed for result reproducibility.  This is optional!\n",
    "np.random.seed(88170232)\n",
    "\n",
    "injection_parameters = dict(\n",
    "    mass_1=3.6e6, mass_2=2.9e6, a_1=0.4, a_2=0.3, tilt_1=0.0, tilt_2=0.0,\n",
    "    phi_12=1.7, phi_jl=0.3, luminosity_distance=1000, theta_jn=0.4, psi=0.659,\n",
    "    phase=1.3, geocent_time=1126259642.413, ra=1.375, dec=-1.2108)\n",
    "\n",
    "waveform_arguments = dict(waveform_approximant='IMRPhenomPv2',\n",
    "                          reference_frequency=1.0e-4,\n",
    "                          minimum_frequency=1.0e-4)\n",
    "\n",
    "waveform_generator = bilby.gw.WaveformGenerator(\n",
    "    duration=duration, sampling_frequency=sampling_frequency,\n",
    "    frequency_domain_source_model=bilby.gw.source.lal_binary_black_hole,\n",
    "    waveform_arguments=waveform_arguments,\n",
    "    start_time=injection_parameters['geocent_time'] - duration)\n",
    "\n",
    "\n",
    "freq = waveform_generator.frequency_array\n",
    "hplus = waveform_generator.frequency_domain_strain(injection_parameters)['plus']\n",
    "hcross = waveform_generator.frequency_domain_strain(injection_parameters)['cross']\n",
    "plt.plot(freq, hplus,label='+')\n",
    "plt.plot(freq, hcross,label='x')\n",
    "plt.xlabel('log(freq) (Hz)')\n",
    "plt.ylabel('strain')\n",
    "plt.legend()\n",
    "plt.xscale('log')\n",
    "plt.savefig('LISA_IMRPhenomPv2_waveform.png', dpi=200)"
   ]
  },
  {
   "cell_type": "code",
   "execution_count": 3,
   "metadata": {},
   "outputs": [
    {
     "name": "stderr",
     "output_type": "stream",
     "text": [
      "16:02 bilby INFO    : Injected signal in LISA_static:\n",
      "16:02 bilby INFO    :   optimal SNR = 39195.52\n",
      "16:02 bilby INFO    :   matched filter SNR = 39195.52+0.00j\n",
      "16:02 bilby INFO    :   mass_1 = 3600000.0\n",
      "16:02 bilby INFO    :   mass_2 = 2900000.0\n",
      "16:02 bilby INFO    :   a_1 = 0.4\n",
      "16:02 bilby INFO    :   a_2 = 0.3\n",
      "16:02 bilby INFO    :   tilt_1 = 0.0\n",
      "16:02 bilby INFO    :   tilt_2 = 0.0\n",
      "16:02 bilby INFO    :   phi_12 = 1.7\n",
      "16:02 bilby INFO    :   phi_jl = 0.3\n",
      "16:02 bilby INFO    :   luminosity_distance = 1000\n",
      "16:02 bilby INFO    :   theta_jn = 0.4\n",
      "16:02 bilby INFO    :   psi = 0.659\n",
      "16:02 bilby INFO    :   phase = 1.3\n",
      "16:02 bilby INFO    :   geocent_time = 1126259642.413\n",
      "16:02 bilby INFO    :   ra = 1.375\n",
      "16:02 bilby INFO    :   dec = -1.2108\n"
     ]
    }
   ],
   "source": [
    "# The location of this new detector is not defined in Bilby, so we need to add it\n",
    "LISA_static = bilby.gw.detector.Interferometer(\n",
    "    power_spectral_density=bilby.gw.detector.PowerSpectralDensity(\n",
    "        psd_file='lisa_psd.txt'),\n",
    "    name='LISA_static', length=2.5e6,\n",
    "    minimum_frequency=1.0e-4, \\\n",
    "    maximum_frequency=max(waveform_generator.frequency_array),\n",
    "    latitude=-31.34, longitude=115.91,\n",
    "    elevation=0., xarm_azimuth=2., yarm_azimuth=125.)\n",
    "\n",
    "# Set up new detector to InterferomerList\n",
    "interferometers = bilby.gw.detector.InterferometerList([])\n",
    "\n",
    "# append the new detector to the list \n",
    "interferometer = interferometers.append(LISA_static)\n",
    "\n",
    "\n",
    "for interferometer in interferometers:\n",
    "    interferometer.set_strain_data_from_zero_noise(\n",
    "        sampling_frequency=sampling_frequency, duration=duration,\n",
    "     start_time=injection_parameters['geocent_time'] - duration)\n",
    "    interferometer.inject_signal(\n",
    "        parameters=injection_parameters, waveform_generator=waveform_generator)\n",
    "\n",
    "#     # plot the data for sanity\n",
    "#     signal = interferometer.get_detector_response(\n",
    "#         waveform_generator.frequency_domain_strain(), injection_parameters)\n",
    "#     interferometer.plot_data(signal=signal, outdir=outdir, label=label)"
   ]
  },
  {
   "cell_type": "code",
   "execution_count": 4,
   "metadata": {},
   "outputs": [],
   "source": [
    "# print(interferometer.frequency_mask[0:10])"
   ]
  },
  {
   "cell_type": "code",
   "execution_count": 5,
   "metadata": {},
   "outputs": [
    {
     "name": "stderr",
     "output_type": "stream",
     "text": [
      "16:02 bilby INFO    : Time jittering requested with non-time-marginalised likelihood, ignoring.\n",
      "16:02 bilby INFO    : Running for label 'LISA_static', output will be saved to 'ourdir'\n",
      "16:02 bilby INFO    : Search parameters:\n",
      "16:02 bilby INFO    :   mass_1 = Uniform(minimum=2000000.0, maximum=5000000.0, name='mass_1', latex_label='$m_1$', unit=None, boundary=None)\n",
      "16:02 bilby INFO    :   mass_2 = Uniform(minimum=2000000.0, maximum=5000000.0, name='mass_2', latex_label='$m_2$', unit=None, boundary=None)\n",
      "16:02 bilby INFO    :   geocent_time = Uniform(minimum=1126258642.413, maximum=1126260642.413, name=None, latex_label='$t_c$', unit='s', boundary=None)\n",
      "16:02 bilby INFO    :   a_1 = 0.4\n",
      "16:02 bilby INFO    :   a_2 = 0.3\n",
      "16:02 bilby INFO    :   tilt_1 = 0.0\n",
      "16:02 bilby INFO    :   tilt_2 = 0.0\n",
      "16:02 bilby INFO    :   theta_jn = 0.4\n",
      "16:02 bilby INFO    :   phase = 1.3\n",
      "16:02 bilby INFO    :   psi = 0.659\n",
      "16:02 bilby INFO    :   ra = 1.375\n",
      "16:02 bilby INFO    :   dec = -1.2108\n",
      "16:02 bilby INFO    :   phi_12 = 1.7\n",
      "16:02 bilby INFO    :   phi_jl = 0.3\n",
      "16:02 bilby INFO    :   luminosity_distance = 1000\n",
      "16:02 bilby INFO    : Single likelihood evaluation took 6.758e-03 s\n",
      "16:02 bilby INFO    : Using sampler Dynesty with kwargs {'bound': 'multi', 'sample': 'rwalk', 'verbose': True, 'periodic': None, 'check_point_delta_t': 600, 'nlive': 512, 'first_update': None, 'walks': 30, 'npdim': None, 'rstate': None, 'queue_size': None, 'pool': None, 'use_pool': None, 'live_points': None, 'logl_args': None, 'logl_kwargs': None, 'ptform_args': None, 'ptform_kwargs': None, 'enlarge': None, 'bootstrap': None, 'vol_dec': 0.5, 'vol_check': 2.0, 'facc': 0.5, 'slices': 5, 'update_interval': 307, 'print_func': <bound method Dynesty._print_func of <bilby.core.sampler.dynesty.Dynesty object at 0x110a0a0b8>>, 'dlogz': 0.1, 'maxiter': None, 'maxcall': None, 'logl_max': inf, 'add_live': True, 'print_progress': True, 'save_bounds': False}\n",
      "16:02 bilby INFO    : Checkpoint every n_check_point = 90000\n"
     ]
    },
    {
     "name": "stdout",
     "output_type": "stream",
     "text": [
      " 7180| logz ratio=767544226.750 +/-  0.093 | dlogz: 589747.391 >  0.100"
     ]
    },
    {
     "name": "stderr",
     "output_type": "stream",
     "text": [
      "16:22 bilby INFO    : Writing checkpoint file ourdir/LISA_static_resume.pickle\n",
      "/anaconda3/lib/python3.7/site-packages/dynesty/plotting.py:659: UserWarning: Attempting to set identical bottom==top results\n",
      "in singular transformations; automatically expanding.\n",
      "bottom=0.0, top=0.0\n",
      "  ax.set_ylim([0., max(y0) * 1.05])\n"
     ]
    },
    {
     "name": "stdout",
     "output_type": "stream",
     "text": [
      " 16181| logz ratio=768144219.843 +/-    nan | dlogz:  7.499 >  0.100000"
     ]
    },
    {
     "name": "stderr",
     "output_type": "stream",
     "text": [
      "16:50 bilby INFO    : Writing checkpoint file ourdir/LISA_static_resume.pickle\n"
     ]
    },
    {
     "ename": "ValueError",
     "evalue": "Weights do not sum to 1.",
     "output_type": "error",
     "traceback": [
      "\u001b[0;31m---------------------------------------------------------------------------\u001b[0m",
      "\u001b[0;31mValueError\u001b[0m                                Traceback (most recent call last)",
      "\u001b[0;32m<ipython-input-5-040f561890b5>\u001b[0m in \u001b[0;36m<module>\u001b[0;34m\u001b[0m\n\u001b[1;32m     20\u001b[0m result = bilby.run_sampler(\n\u001b[1;32m     21\u001b[0m     \u001b[0mlikelihood\u001b[0m\u001b[0;34m=\u001b[0m\u001b[0mlikelihood\u001b[0m\u001b[0;34m,\u001b[0m \u001b[0mpriors\u001b[0m\u001b[0;34m=\u001b[0m\u001b[0mpriors\u001b[0m\u001b[0;34m,\u001b[0m \u001b[0msampler\u001b[0m\u001b[0;34m=\u001b[0m\u001b[0;34m'dynesty'\u001b[0m\u001b[0;34m,\u001b[0m \u001b[0mnpoints\u001b[0m\u001b[0;34m=\u001b[0m\u001b[0;36m512\u001b[0m\u001b[0;34m,\u001b[0m\u001b[0;34m\u001b[0m\u001b[0;34m\u001b[0m\u001b[0m\n\u001b[0;32m---> 22\u001b[0;31m     injection_parameters=injection_parameters, outdir=outdir, label=label)\n\u001b[0m\u001b[1;32m     23\u001b[0m \u001b[0;34m\u001b[0m\u001b[0m\n\u001b[1;32m     24\u001b[0m \u001b[0mresult\u001b[0m\u001b[0;34m.\u001b[0m\u001b[0mplot_corner\u001b[0m\u001b[0;34m(\u001b[0m\u001b[0;34m)\u001b[0m\u001b[0;34m\u001b[0m\u001b[0;34m\u001b[0m\u001b[0m\n",
      "\u001b[0;32m/anaconda3/lib/python3.7/site-packages/bilby/core/sampler/__init__.py\u001b[0m in \u001b[0;36mrun_sampler\u001b[0;34m(likelihood, priors, label, outdir, sampler, use_ratio, injection_parameters, conversion_function, plot, default_priors_file, clean, meta_data, save, gzip, result_class, **kwargs)\u001b[0m\n\u001b[1;32m    172\u001b[0m         \u001b[0mresult\u001b[0m \u001b[0;34m=\u001b[0m \u001b[0msampler\u001b[0m\u001b[0;34m.\u001b[0m\u001b[0m_run_test\u001b[0m\u001b[0;34m(\u001b[0m\u001b[0;34m)\u001b[0m\u001b[0;34m\u001b[0m\u001b[0;34m\u001b[0m\u001b[0m\n\u001b[1;32m    173\u001b[0m     \u001b[0;32melse\u001b[0m\u001b[0;34m:\u001b[0m\u001b[0;34m\u001b[0m\u001b[0;34m\u001b[0m\u001b[0m\n\u001b[0;32m--> 174\u001b[0;31m         \u001b[0mresult\u001b[0m \u001b[0;34m=\u001b[0m \u001b[0msampler\u001b[0m\u001b[0;34m.\u001b[0m\u001b[0mrun_sampler\u001b[0m\u001b[0;34m(\u001b[0m\u001b[0;34m)\u001b[0m\u001b[0;34m\u001b[0m\u001b[0;34m\u001b[0m\u001b[0m\n\u001b[0m\u001b[1;32m    175\u001b[0m     \u001b[0mend_time\u001b[0m \u001b[0;34m=\u001b[0m \u001b[0mdatetime\u001b[0m\u001b[0;34m.\u001b[0m\u001b[0mdatetime\u001b[0m\u001b[0;34m.\u001b[0m\u001b[0mnow\u001b[0m\u001b[0;34m(\u001b[0m\u001b[0;34m)\u001b[0m\u001b[0;34m\u001b[0m\u001b[0;34m\u001b[0m\u001b[0m\n\u001b[1;32m    176\u001b[0m \u001b[0;34m\u001b[0m\u001b[0m\n",
      "\u001b[0;32m/anaconda3/lib/python3.7/site-packages/bilby/core/sampler/dynesty.py\u001b[0m in \u001b[0;36mrun_sampler\u001b[0;34m(self)\u001b[0m\n\u001b[1;32m    221\u001b[0m \u001b[0;34m\u001b[0m\u001b[0m\n\u001b[1;32m    222\u001b[0m         \u001b[0;32mif\u001b[0m \u001b[0mself\u001b[0m\u001b[0;34m.\u001b[0m\u001b[0mcheck_point\u001b[0m\u001b[0;34m:\u001b[0m\u001b[0;34m\u001b[0m\u001b[0;34m\u001b[0m\u001b[0m\n\u001b[0;32m--> 223\u001b[0;31m             \u001b[0mout\u001b[0m \u001b[0;34m=\u001b[0m \u001b[0mself\u001b[0m\u001b[0;34m.\u001b[0m\u001b[0m_run_external_sampler_with_checkpointing\u001b[0m\u001b[0;34m(\u001b[0m\u001b[0;34m)\u001b[0m\u001b[0;34m\u001b[0m\u001b[0;34m\u001b[0m\u001b[0m\n\u001b[0m\u001b[1;32m    224\u001b[0m         \u001b[0;32melse\u001b[0m\u001b[0;34m:\u001b[0m\u001b[0;34m\u001b[0m\u001b[0;34m\u001b[0m\u001b[0m\n\u001b[1;32m    225\u001b[0m             \u001b[0mout\u001b[0m \u001b[0;34m=\u001b[0m \u001b[0mself\u001b[0m\u001b[0;34m.\u001b[0m\u001b[0m_run_external_sampler_without_checkpointing\u001b[0m\u001b[0;34m(\u001b[0m\u001b[0;34m)\u001b[0m\u001b[0;34m\u001b[0m\u001b[0;34m\u001b[0m\u001b[0m\n",
      "\u001b[0;32m/anaconda3/lib/python3.7/site-packages/bilby/core/sampler/dynesty.py\u001b[0m in \u001b[0;36m_run_external_sampler_with_checkpointing\u001b[0;34m(self)\u001b[0m\n\u001b[1;32m    279\u001b[0m             \u001b[0mold_ncall\u001b[0m \u001b[0;34m=\u001b[0m \u001b[0mself\u001b[0m\u001b[0;34m.\u001b[0m\u001b[0msampler\u001b[0m\u001b[0;34m.\u001b[0m\u001b[0mncall\u001b[0m\u001b[0;34m\u001b[0m\u001b[0;34m\u001b[0m\u001b[0m\n\u001b[1;32m    280\u001b[0m \u001b[0;34m\u001b[0m\u001b[0m\n\u001b[0;32m--> 281\u001b[0;31m             \u001b[0mself\u001b[0m\u001b[0;34m.\u001b[0m\u001b[0mwrite_current_state\u001b[0m\u001b[0;34m(\u001b[0m\u001b[0;34m)\u001b[0m\u001b[0;34m\u001b[0m\u001b[0;34m\u001b[0m\u001b[0m\n\u001b[0m\u001b[1;32m    282\u001b[0m \u001b[0;34m\u001b[0m\u001b[0m\n\u001b[1;32m    283\u001b[0m         \u001b[0msampler_kwargs\u001b[0m\u001b[0;34m[\u001b[0m\u001b[0;34m'add_live'\u001b[0m\u001b[0;34m]\u001b[0m \u001b[0;34m=\u001b[0m \u001b[0;32mTrue\u001b[0m\u001b[0;34m\u001b[0m\u001b[0;34m\u001b[0m\u001b[0m\n",
      "\u001b[0;32m/anaconda3/lib/python3.7/site-packages/bilby/core/sampler/dynesty.py\u001b[0m in \u001b[0;36mwrite_current_state\u001b[0;34m(self, plot)\u001b[0m\n\u001b[1;32m    424\u001b[0m             \u001b[0mfilename\u001b[0m \u001b[0;34m=\u001b[0m \u001b[0;34m\"{}/{}_checkpoint_trace.png\"\u001b[0m\u001b[0;34m.\u001b[0m\u001b[0mformat\u001b[0m\u001b[0;34m(\u001b[0m\u001b[0mself\u001b[0m\u001b[0;34m.\u001b[0m\u001b[0moutdir\u001b[0m\u001b[0;34m,\u001b[0m \u001b[0mself\u001b[0m\u001b[0;34m.\u001b[0m\u001b[0mlabel\u001b[0m\u001b[0;34m)\u001b[0m\u001b[0;34m\u001b[0m\u001b[0;34m\u001b[0m\u001b[0m\n\u001b[1;32m    425\u001b[0m             \u001b[0;32mtry\u001b[0m\u001b[0;34m:\u001b[0m\u001b[0;34m\u001b[0m\u001b[0;34m\u001b[0m\u001b[0m\n\u001b[0;32m--> 426\u001b[0;31m                 \u001b[0mfig\u001b[0m \u001b[0;34m=\u001b[0m \u001b[0mdyplot\u001b[0m\u001b[0;34m.\u001b[0m\u001b[0mtraceplot\u001b[0m\u001b[0;34m(\u001b[0m\u001b[0mself\u001b[0m\u001b[0;34m.\u001b[0m\u001b[0msampler\u001b[0m\u001b[0;34m.\u001b[0m\u001b[0mresults\u001b[0m\u001b[0;34m,\u001b[0m \u001b[0mlabels\u001b[0m\u001b[0;34m=\u001b[0m\u001b[0mlabels\u001b[0m\u001b[0;34m)\u001b[0m\u001b[0;34m[\u001b[0m\u001b[0;36m0\u001b[0m\u001b[0;34m]\u001b[0m\u001b[0;34m\u001b[0m\u001b[0;34m\u001b[0m\u001b[0m\n\u001b[0m\u001b[1;32m    427\u001b[0m                 \u001b[0mfig\u001b[0m\u001b[0;34m.\u001b[0m\u001b[0mtight_layout\u001b[0m\u001b[0;34m(\u001b[0m\u001b[0;34m)\u001b[0m\u001b[0;34m\u001b[0m\u001b[0;34m\u001b[0m\u001b[0m\n\u001b[1;32m    428\u001b[0m                 \u001b[0mfig\u001b[0m\u001b[0;34m.\u001b[0m\u001b[0msavefig\u001b[0m\u001b[0;34m(\u001b[0m\u001b[0mfilename\u001b[0m\u001b[0;34m)\u001b[0m\u001b[0;34m\u001b[0m\u001b[0;34m\u001b[0m\u001b[0m\n",
      "\u001b[0;32m/anaconda3/lib/python3.7/site-packages/dynesty/plotting.py\u001b[0m in \u001b[0;36mtraceplot\u001b[0;34m(results, span, quantiles, smooth, post_color, post_kwargs, kde, nkde, trace_cmap, trace_color, trace_kwargs, connect, connect_highlight, connect_color, connect_kwargs, max_n_ticks, use_math_text, labels, label_kwargs, show_titles, title_fmt, title_kwargs, truths, truth_color, truth_kwargs, verbose, fig)\u001b[0m\n\u001b[1;32m    484\u001b[0m     \u001b[0;32mif\u001b[0m \u001b[0mkde\u001b[0m\u001b[0;34m:\u001b[0m\u001b[0;34m\u001b[0m\u001b[0;34m\u001b[0m\u001b[0m\n\u001b[1;32m    485\u001b[0m         \u001b[0;31m# Derive kernel density estimate.\u001b[0m\u001b[0;34m\u001b[0m\u001b[0;34m\u001b[0m\u001b[0;34m\u001b[0m\u001b[0m\n\u001b[0;32m--> 486\u001b[0;31m         \u001b[0mwt_kde\u001b[0m \u001b[0;34m=\u001b[0m \u001b[0mgaussian_kde\u001b[0m\u001b[0;34m(\u001b[0m\u001b[0mresample_equal\u001b[0m\u001b[0;34m(\u001b[0m\u001b[0;34m-\u001b[0m\u001b[0mlogvol\u001b[0m\u001b[0;34m,\u001b[0m \u001b[0mweights\u001b[0m\u001b[0;34m)\u001b[0m\u001b[0;34m)\u001b[0m  \u001b[0;31m# KDE\u001b[0m\u001b[0;34m\u001b[0m\u001b[0;34m\u001b[0m\u001b[0m\n\u001b[0m\u001b[1;32m    487\u001b[0m         \u001b[0mlogvol_grid\u001b[0m \u001b[0;34m=\u001b[0m \u001b[0mnp\u001b[0m\u001b[0;34m.\u001b[0m\u001b[0mlinspace\u001b[0m\u001b[0;34m(\u001b[0m\u001b[0mlogvol\u001b[0m\u001b[0;34m[\u001b[0m\u001b[0;36m0\u001b[0m\u001b[0;34m]\u001b[0m\u001b[0;34m,\u001b[0m \u001b[0mlogvol\u001b[0m\u001b[0;34m[\u001b[0m\u001b[0;34m-\u001b[0m\u001b[0;36m1\u001b[0m\u001b[0;34m]\u001b[0m\u001b[0;34m,\u001b[0m \u001b[0mnkde\u001b[0m\u001b[0;34m)\u001b[0m  \u001b[0;31m# resample\u001b[0m\u001b[0;34m\u001b[0m\u001b[0;34m\u001b[0m\u001b[0m\n\u001b[1;32m    488\u001b[0m         \u001b[0mwt_grid\u001b[0m \u001b[0;34m=\u001b[0m \u001b[0mwt_kde\u001b[0m\u001b[0;34m.\u001b[0m\u001b[0mpdf\u001b[0m\u001b[0;34m(\u001b[0m\u001b[0;34m-\u001b[0m\u001b[0mlogvol_grid\u001b[0m\u001b[0;34m)\u001b[0m  \u001b[0;31m# evaluate KDE PDF\u001b[0m\u001b[0;34m\u001b[0m\u001b[0;34m\u001b[0m\u001b[0m\n",
      "\u001b[0;32m/anaconda3/lib/python3.7/site-packages/dynesty/utils.py\u001b[0m in \u001b[0;36mresample_equal\u001b[0;34m(samples, weights, rstate)\u001b[0m\n\u001b[1;32m    132\u001b[0m \u001b[0;34m\u001b[0m\u001b[0m\n\u001b[1;32m    133\u001b[0m     \u001b[0;32mif\u001b[0m \u001b[0mabs\u001b[0m\u001b[0;34m(\u001b[0m\u001b[0mnp\u001b[0m\u001b[0;34m.\u001b[0m\u001b[0msum\u001b[0m\u001b[0;34m(\u001b[0m\u001b[0mweights\u001b[0m\u001b[0;34m)\u001b[0m \u001b[0;34m-\u001b[0m \u001b[0;36m1.\u001b[0m\u001b[0;34m)\u001b[0m \u001b[0;34m>\u001b[0m \u001b[0mSQRTEPS\u001b[0m\u001b[0;34m:\u001b[0m  \u001b[0;31m# same tol as in np.random.choice.\u001b[0m\u001b[0;34m\u001b[0m\u001b[0;34m\u001b[0m\u001b[0m\n\u001b[0;32m--> 134\u001b[0;31m         \u001b[0;32mraise\u001b[0m \u001b[0mValueError\u001b[0m\u001b[0;34m(\u001b[0m\u001b[0;34m\"Weights do not sum to 1.\"\u001b[0m\u001b[0;34m)\u001b[0m\u001b[0;34m\u001b[0m\u001b[0;34m\u001b[0m\u001b[0m\n\u001b[0m\u001b[1;32m    135\u001b[0m \u001b[0;34m\u001b[0m\u001b[0m\n\u001b[1;32m    136\u001b[0m     \u001b[0;31m# Make N subdivisions and choose positions with a consistent random offset.\u001b[0m\u001b[0;34m\u001b[0m\u001b[0;34m\u001b[0m\u001b[0;34m\u001b[0m\u001b[0m\n",
      "\u001b[0;31mValueError\u001b[0m: Weights do not sum to 1."
     ]
    }
   ],
   "source": [
    "#  create the priors\n",
    "priors = dict()\n",
    "for key in ['a_1', 'a_2', 'tilt_1', 'tilt_2', 'theta_jn', 'phase', 'psi', 'ra',\n",
    "            'dec', 'phi_12', 'phi_jl', 'luminosity_distance']:\n",
    "    priors[key] = injection_parameters[key]\n",
    "    \n",
    "priors['mass_1'] = bilby.core.prior.Uniform(2.0e6, 5.0e6, name='mass_1')\n",
    "priors['mass_2'] = bilby.core.prior.Uniform(2.0e6, 5.0e6, name='mass_2')\n",
    "priors['geocent_time'] = bilby.core.prior.Uniform(\n",
    "    injection_parameters['geocent_time'] - 0.1,\n",
    "    injection_parameters['geocent_time'] + 0.1, latex_label='$t_c$', unit='s')\n",
    "\n",
    "\n",
    "\n",
    "# define likelihood\n",
    "likelihood = bilby.gw.GravitationalWaveTransient(\n",
    "    interferometers=interferometers, waveform_generator=waveform_generator)\n",
    "\n",
    "# launch sampler\n",
    "result = bilby.run_sampler(\n",
    "    likelihood=likelihood, priors=priors, sampler='dynesty', npoints=256,\n",
    "    injection_parameters=injection_parameters, outdir=outdir, label=label)\n",
    "\n",
    "result.plot_corner()\n"
   ]
  },
  {
   "cell_type": "code",
   "execution_count": null,
   "metadata": {},
   "outputs": [],
   "source": [
    "end_time = datetime.now()\n",
    "running_time = end_time - start_time\n",
    "print(running_time)"
   ]
  },
  {
   "cell_type": "code",
   "execution_count": null,
   "metadata": {},
   "outputs": [],
   "source": []
  }
 ],
 "metadata": {
  "kernelspec": {
   "display_name": "Python 3",
   "language": "python",
   "name": "python3"
  },
  "language_info": {
   "codemirror_mode": {
    "name": "ipython",
    "version": 3
   },
   "file_extension": ".py",
   "mimetype": "text/x-python",
   "name": "python",
   "nbconvert_exporter": "python",
   "pygments_lexer": "ipython3",
   "version": "3.7.3"
  }
 },
 "nbformat": 4,
 "nbformat_minor": 4
}
