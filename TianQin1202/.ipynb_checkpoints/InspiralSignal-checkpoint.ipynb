{
 "cells": [
  {
   "cell_type": "code",
   "execution_count": null,
   "metadata": {},
   "outputs": [],
   "source": [
    "import numpy as np\n",
    "import bilby\n",
    "from sympy import sin,cos,log,sqrt\n",
    "from astropy import constants as const\n",
    "import matplotlib.pyplot as plt\n",
    "\n",
    "OrbitRadiusInS = 1e8 /const.c.value    # 1e5 km\n",
    "MearthInS      = const.M_earth.value*const.G.value/const.c.value**3\n",
    "OrbitPeriodInS = 2*np.pi*np.sqrt(OrbitRadiusInS**3/MearthInS)\n",
    "YearInS  = 31536000.0   # one year in [s]\n",
    "\n",
    "speed_of_light = 299792458.0  # m/s\n",
    "parsec = 3.085677581491367e+16  # m\n",
    "solar_mass = 1.9885469549614615e+30  # Kg"
   ]
  },
  {
   "cell_type": "code",
   "execution_count": null,
   "metadata": {},
   "outputs": [],
   "source": [
    "def InspiralWaveform(t,theta):\n",
    "    eta = theta.mu/theta.M_t\n",
    "    tau = eta/(5*M_t)*(theta.Tc - time)\n",
    "    MW = 1/8*tau**(-3/8)*(1+(11/32*eta + 743/2688)*tau**(-1/4)-3/10*np.pi*tau**(-3/8)\\\n",
    "          +(1855099/14450688+371/2048*eta**2+56975/258048*eta)*tau**(-1/2))\n",
    "    \n",
    "    PHI = -1/(32*eta)*(MW)**(-5/3)*(1+(55/12*eta+3715/1008)*MW**(2/3)-10*np.pi*MW\\\n",
    "                                   +(15293365/1016064+3085/144*eta**2+27145/1008*eta)*(MW)**(4/3))+theta.phi0\n",
    "    \n",
    "    hplus = 2*theta.mu/DL*(MW)**(2/3)*(1+np.cos(theta.iota)**2)*np.cos(2*PHI+theta.phi0)\n",
    "    hcros = 2*theta.mu/theta.DL*(MW)**(2/3)*(2*np.cos(theta.iota))*np.sin(2*PHI+theta.phi0)\n",
    "    return [hplus, hcros]"
   ]
  },
  {
   "cell_type": "code",
   "execution_count": null,
   "metadata": {},
   "outputs": [],
   "source": [
    "\n",
    "def Dplus_TQ(t,theta):\n",
    "    \"\"\"For TianQin (one Michelson interferometer): (thetaS,phiS) is location of source,\n",
    "    (thJ,phJ) is latitude and longitude of J0806 in heliocentric-ecliptic frame\"\"\"\n",
    "    thJ  = 1.65273\n",
    "    phJ  = 2.10213\n",
    "    kap = 2*np.pi/OrbitPeriodInS* t\n",
    "#    kap = 2*np.pi/YearInS* t(f,theta)\n",
    "    return np.sqrt(3.)/32*(8*cos(2*kap) *((3 + cos(2*theta.thetaS)) *sin(2*(theta.phiS - phJ))*  \n",
    "            cos(thJ) + 2*sin(thJ) *sin(theta.phiS - phJ)*sin(2*theta.thetaS))- 2*sin(2*kap)* (3 +               \n",
    "            cos(2*(theta.phiS - phJ))*(9 + cos(2*theta.thetaS)*(3 + cos(2*thJ))) -6 *cos(2*thJ)*(sin(theta.phiS - phJ))**2 -               \n",
    "            6* cos(2*theta.thetaS)*(sin(thJ))**2 + 4*cos(theta.phiS - phJ)*sin(2*thJ)*sin(2*theta.thetaS))) \n",
    "\n",
    "def Dcros_TQ(t,theta):\n",
    "    \"\"\"For TianQin (one Michelson interferometer): (thetaS,phiS) is location of source, \n",
    "    (thJ,phJ) is latitude and longitude of J0806 in heliocentric-ecliptic frame\"\"\"\n",
    "    thJ  = 1.65273\n",
    "    phJ  = 2.10213\n",
    "    kap = 2*np.pi/OrbitPeriodInS* t\n",
    "#    kap = 2*np.pi/YearInS* t(f,theta)\n",
    "    return np.sqrt(3.)/4*(-4*cos(2*kap)*(cos(2*(theta.phiS-phJ))*cos(thJ)*cos(theta.thetaS)+                 \n",
    "            cos(theta.phiS-phJ)*sin(theta.thetaS)*sin(thJ))+sin(2*kap)*(cos(theta.thetaS)*(3+cos(2*thJ))*sin(2*(phJ-theta.phiS))+                \n",
    "            2*sin(phJ-theta.phiS)*sin(theta.thetaS)*sin(2*thJ)))\n",
    "\n",
    "def Fplus_TQ(t,theta):\n",
    "    \"\"\"antenna pattern function for '+' mode\"\"\"\n",
    "    return (cos(2*theta.psi)*Dplus_TQ(t,theta)-sin(2*theta.psi)*Dcros_TQ(t,theta))/2.\n",
    "\n",
    "def Fcros_TQ(t,theta):\n",
    "    \"\"\"antenna pattern function for '×' mode\"\"\"\n",
    "    return (sin(2*theta.psi)*Dplus_TQ(t,theta)+cos(2*theta.psi)*Dcros_TQ(t,theta))/2.\n"
   ]
  },
  {
   "cell_type": "code",
   "execution_count": null,
   "metadata": {},
   "outputs": [],
   "source": [
    "thetaS = np.pi/6\n",
    "phiS = np.pi/0.9\n",
    "psi = np.pi/2.5\n",
    "\n",
    "class InputPara(object):\n",
    "\n",
    "    def __init__(self, m1, m2, DL, Tc, iota, phi0, psi, thetaS, phiS):\n",
    "        self.m1 = m1\n",
    "        self.m2 = m2\n",
    "        self.DL = DL\n",
    "        self.Tc = Tc\n",
    "        self.iota = iota\n",
    "        self.phi0 = phi0\n",
    "        self.psi = psi\n",
    "        self.thetaS = thetaS\n",
    "        self.phiS = phiS\n",
    "    \n",
    "theta = InputPara(psi, thetaS, phiS)"
   ]
  },
  {
   "cell_type": "code",
   "execution_count": null,
   "metadata": {},
   "outputs": [],
   "source": [
    "Dplus = []\n",
    "Dcros = []\n",
    "Fplus = []\n",
    "Fcros = []\n",
    "\n",
    "for i in time:\n",
    "    Dp = Dplus_TQ(i,theta)\n",
    "    Dc = Dcros_TQ(i,theta)\n",
    "    Fp = Fplus_TQ(i,theta)\n",
    "    Fc = Fcros_TQ(i,theta)\n",
    "    Dplus.append(Dp)\n",
    "    Dcros.append(Dc)\n",
    "    Fplus.append(Fp)\n",
    "    Fcros.append(Fc)\n",
    "\n",
    "Dplus = np.array(Dplus)         #Convert list to array\n",
    "Dcros = np.array(Dcros)         #Convert list to array\n",
    "Fplus = np.array(Fplus)         #Convert list to array\n",
    "Fcros = np.array(Fcros)         #Convert list to array\n",
    "\n",
    "fig = plt.plot(time, Fcros, label='Fx')\n",
    "fig = plt.plot(time, Fplus, label='F+')\n",
    "plt.xlabel('time(s)')\n",
    "plt.ylabel('Response')\n",
    "plt.legend()\n",
    "plt.title('TianQin Antenna pattern function')"
   ]
  }
 ],
 "metadata": {
  "kernelspec": {
   "display_name": "Python 3",
   "language": "python",
   "name": "python3"
  },
  "language_info": {
   "codemirror_mode": {
    "name": "ipython",
    "version": 3
   },
   "file_extension": ".py",
   "mimetype": "text/x-python",
   "name": "python",
   "nbconvert_exporter": "python",
   "pygments_lexer": "ipython3",
   "version": "3.7.3"
  }
 },
 "nbformat": 4,
 "nbformat_minor": 2
}
